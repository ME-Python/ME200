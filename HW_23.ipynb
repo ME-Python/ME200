{
 "cells": [
  {
   "cell_type": "markdown",
   "metadata": {},
   "source": [
    "# HW-23: Due Friday 21 July 2017 by 2:00:00 pm EDT \n",
    "\n",
    "A Rankine cycle power plant has a pump whose isentropic efficiency is 75%  and a turbine whose isentropic efficiency is 97%.  The pump receives saturated liquid water at 0.1 bar.  The boiler outlet stream is as 40 bar and 400 C. \n",
    "\n",
    "Compute the cycle energy efficiency and compare it one whose pump and turbine are isentropic."
   ]
  },
  {
   "cell_type": "markdown",
   "metadata": {},
   "source": [
    "# Problem:\n",
    "\n",
    "Compute the cycle energy efficiency and compare it one whose pump and turbine are isentropic.\n",
    "\n",
    "# Knowns:\n",
    "\n",
    "- Cycle: Rankine\n",
    "- isentropic efficiencies: \n",
    "  - pump: 75% \n",
    "  - turbine: 97%\n",
    "- Pump In:\n",
    "  - Saturated Liquid Water\n",
    "  - Pressure: 0.1 bar\n",
    "- Boiler Output:\n",
    "  - Steam\n",
    "  - 40 bar\n",
    "  - 400 C\n",
    "  \n",
    "# Assumptions:\n",
    "- Rotating machinery is adiabatic.\n",
    "- Steady flow steady state conditions (SFSS)\n",
    "- \n",
    "  \n",
    "# System\n",
    "\n",
    "![](23_sys.png)\n",
    "\n",
    "# Solution"
   ]
  },
  {
   "cell_type": "code",
   "execution_count": 22,
   "metadata": {
    "collapsed": true
   },
   "outputs": [],
   "source": [
    "from pint import UnitRegistry\n",
    "ureg = UnitRegistry()\n",
    "_bar = ureg.bar\n",
    "_MPa = ureg.MPa"
   ]
  },
  {
   "cell_type": "code",
   "execution_count": 28,
   "metadata": {},
   "outputs": [],
   "source": [
    "import sys\n",
    "import os\n",
    "sys.path.append(os.path.abspath(\"venv/lib/python3.5/site-packages/\"))\n",
    "\n",
    "from iapws import IAPWS95"
   ]
  },
  {
   "cell_type": "code",
   "execution_count": 29,
   "metadata": {},
   "outputs": [
    {
     "name": "stdout",
     "output_type": "stream",
     "text": [
      "191.805944621\n"
     ]
    }
   ],
   "source": [
    "pump_in=IAPWS95(P=0.01, x=0) #saturated water\n",
    "print(pump_in.h)"
   ]
  },
  {
   "cell_type": "markdown",
   "metadata": {},
   "source": [
    "- $$h_1 = 192 \\frac{kJ}{kg}$$\n",
    "- $$h_2 = 196 \\frac{kJ}{kg}$$\n",
    "- $$h_3 = 3210 \\frac{kJ}{kg}$$\n",
    "- $$h_4 = 2140 \\frac{kJ}{kg}$$"
   ]
  }
 ],
 "metadata": {
  "kernelspec": {
   "display_name": "Python 3",
   "language": "python",
   "name": "python3"
  }
 },
 "nbformat": 4,
 "nbformat_minor": 2
}
